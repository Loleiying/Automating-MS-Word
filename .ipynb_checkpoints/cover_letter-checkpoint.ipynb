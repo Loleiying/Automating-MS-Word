{
 "cells": [
  {
   "cell_type": "code",
   "execution_count": 19,
   "metadata": {},
   "outputs": [
    {
     "name": "stdout",
     "output_type": "stream",
     "text": [
      "{'source', 'zipcode', 'date', 'job_title', 'state', 'city', 'company', 'recipient'}\n"
     ]
    }
   ],
   "source": [
    "from __future__ import print_function\n",
    "from mailmerge import MailMerge\n",
    "from datetime import datetime\n",
    "\n",
    "template = r\"C:\\Users\\liyin\\Desktop\\cover_letter_template.docx\"\n",
    "\n",
    "document = MailMerge(template)\n",
    "print(document.get_merge_fields())"
   ]
  },
  {
   "cell_type": "code",
   "execution_count": 20,
   "metadata": {},
   "outputs": [],
   "source": [
    "# change the entries to create a new MS Word cover letter\n",
    "company = \"Testing\"\n",
    "document.merge(\n",
    "    source=\"HandShake\",\n",
    "    job_title=\"Data Analyst\",\n",
    "    company=company,\n",
    "    state=\"VA\",\n",
    "    city=\"Fairfax\",\n",
    "    zipcode=\"22032\",\n",
    "    recipient=\"Sir/Madam\",\n",
    "    date='{:%B %d, %Y}'.format(datetime.today()))\n",
    "\n",
    "document.write(r'D:\\liying\\Documents\\Employment\\{}_CL.docx'.format(company))"
   ]
  }
 ],
 "metadata": {
  "kernelspec": {
   "display_name": "Python 3",
   "language": "python",
   "name": "python3"
  },
  "language_info": {
   "codemirror_mode": {
    "name": "ipython",
    "version": 3
   },
   "file_extension": ".py",
   "mimetype": "text/x-python",
   "name": "python",
   "nbconvert_exporter": "python",
   "pygments_lexer": "ipython3",
   "version": "3.7.1"
  }
 },
 "nbformat": 4,
 "nbformat_minor": 2
}
